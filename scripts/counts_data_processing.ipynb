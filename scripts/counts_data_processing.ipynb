{
 "cells": [
  {
   "cell_type": "code",
   "execution_count": 1,
   "metadata": {
    "collapsed": true
   },
   "outputs": [],
   "source": [
    "import pandas as pd"
   ]
  },
  {
   "cell_type": "code",
   "execution_count": 2,
   "outputs": [
    {
     "data": {
      "text/plain": "       OTUID  S001P8292  S002P8292  S003P8292  S004P8292  S005P8292  \\\n0   Zotu6747         46         71         26         49          0   \n1   Zotu2247          1          2          2          2          2   \n2  Zotu22240          5          8          1          0          0   \n3   Zotu2303        175        133        121        131          0   \n4  Zotu12508          6         14         44         37          0   \n\n   S006P8292  S007P8292  S008P8292  S009P8292  ...  S114P7795  S115P7795  \\\n0          0          0          0          0  ...          0          0   \n1          3          4          7         27  ...         14          1   \n2          0          0          0          2  ...          1          0   \n3         17          0          0          0  ...          0          0   \n4          0          0          0          0  ...          0          0   \n\n   S116P7795  S117P7795  S118P7795  S119P7795  S120P7795  S121P7795  \\\n0          0          0          0          1          0          0   \n1         11          1          4          0          1          1   \n2          0          0          0          2          2          0   \n3          0          0          0          0          0          0   \n4          0          0          0          0          0          0   \n\n   S122P7795  S123P7795  \n0          0          0  \n1         10          3  \n2          0          0  \n3          0          0  \n4          0          0  \n\n[5 rows x 124 columns]",
      "text/html": "<div>\n<style scoped>\n    .dataframe tbody tr th:only-of-type {\n        vertical-align: middle;\n    }\n\n    .dataframe tbody tr th {\n        vertical-align: top;\n    }\n\n    .dataframe thead th {\n        text-align: right;\n    }\n</style>\n<table border=\"1\" class=\"dataframe\">\n  <thead>\n    <tr style=\"text-align: right;\">\n      <th></th>\n      <th>OTUID</th>\n      <th>S001P8292</th>\n      <th>S002P8292</th>\n      <th>S003P8292</th>\n      <th>S004P8292</th>\n      <th>S005P8292</th>\n      <th>S006P8292</th>\n      <th>S007P8292</th>\n      <th>S008P8292</th>\n      <th>S009P8292</th>\n      <th>...</th>\n      <th>S114P7795</th>\n      <th>S115P7795</th>\n      <th>S116P7795</th>\n      <th>S117P7795</th>\n      <th>S118P7795</th>\n      <th>S119P7795</th>\n      <th>S120P7795</th>\n      <th>S121P7795</th>\n      <th>S122P7795</th>\n      <th>S123P7795</th>\n    </tr>\n  </thead>\n  <tbody>\n    <tr>\n      <th>0</th>\n      <td>Zotu6747</td>\n      <td>46</td>\n      <td>71</td>\n      <td>26</td>\n      <td>49</td>\n      <td>0</td>\n      <td>0</td>\n      <td>0</td>\n      <td>0</td>\n      <td>0</td>\n      <td>...</td>\n      <td>0</td>\n      <td>0</td>\n      <td>0</td>\n      <td>0</td>\n      <td>0</td>\n      <td>1</td>\n      <td>0</td>\n      <td>0</td>\n      <td>0</td>\n      <td>0</td>\n    </tr>\n    <tr>\n      <th>1</th>\n      <td>Zotu2247</td>\n      <td>1</td>\n      <td>2</td>\n      <td>2</td>\n      <td>2</td>\n      <td>2</td>\n      <td>3</td>\n      <td>4</td>\n      <td>7</td>\n      <td>27</td>\n      <td>...</td>\n      <td>14</td>\n      <td>1</td>\n      <td>11</td>\n      <td>1</td>\n      <td>4</td>\n      <td>0</td>\n      <td>1</td>\n      <td>1</td>\n      <td>10</td>\n      <td>3</td>\n    </tr>\n    <tr>\n      <th>2</th>\n      <td>Zotu22240</td>\n      <td>5</td>\n      <td>8</td>\n      <td>1</td>\n      <td>0</td>\n      <td>0</td>\n      <td>0</td>\n      <td>0</td>\n      <td>0</td>\n      <td>2</td>\n      <td>...</td>\n      <td>1</td>\n      <td>0</td>\n      <td>0</td>\n      <td>0</td>\n      <td>0</td>\n      <td>2</td>\n      <td>2</td>\n      <td>0</td>\n      <td>0</td>\n      <td>0</td>\n    </tr>\n    <tr>\n      <th>3</th>\n      <td>Zotu2303</td>\n      <td>175</td>\n      <td>133</td>\n      <td>121</td>\n      <td>131</td>\n      <td>0</td>\n      <td>17</td>\n      <td>0</td>\n      <td>0</td>\n      <td>0</td>\n      <td>...</td>\n      <td>0</td>\n      <td>0</td>\n      <td>0</td>\n      <td>0</td>\n      <td>0</td>\n      <td>0</td>\n      <td>0</td>\n      <td>0</td>\n      <td>0</td>\n      <td>0</td>\n    </tr>\n    <tr>\n      <th>4</th>\n      <td>Zotu12508</td>\n      <td>6</td>\n      <td>14</td>\n      <td>44</td>\n      <td>37</td>\n      <td>0</td>\n      <td>0</td>\n      <td>0</td>\n      <td>0</td>\n      <td>0</td>\n      <td>...</td>\n      <td>0</td>\n      <td>0</td>\n      <td>0</td>\n      <td>0</td>\n      <td>0</td>\n      <td>0</td>\n      <td>0</td>\n      <td>0</td>\n      <td>0</td>\n      <td>0</td>\n    </tr>\n  </tbody>\n</table>\n<p>5 rows × 124 columns</p>\n</div>"
     },
     "execution_count": 2,
     "metadata": {},
     "output_type": "execute_result"
    }
   ],
   "source": [
    "counts_file = \"/Users/cheyennebrouwer/Documents/23-24/Kwartaal_2/Data_Dashboards/Bioclear/wetransfer_ngs-data_2023-11-14_1231/NGS data/ASV_counts.txt\"\n",
    "df = pd.read_table(counts_file)\n",
    "df.head()"
   ],
   "metadata": {
    "collapsed": false
   }
  },
  {
   "cell_type": "code",
   "execution_count": 3,
   "outputs": [
    {
     "data": {
      "text/plain": "           S001P8292  S002P8292  S003P8292  S004P8292\nOTUID                                                \nZotu6747   13.981763  21.913580  10.483871  18.560606\nZotu2247    0.303951   0.617284   0.806452   0.757576\nZotu22240   1.519757   2.469136   0.403226   0.000000\nZotu2303   53.191489  41.049383  48.790323  49.621212\nZotu12508   1.823708   4.320988  17.741935  14.015152\nZotu19977   2.127660   3.703704   1.612903   0.757576\nZotu30175   4.863222   3.395062   4.435484   4.166667\nZotu4618    3.647416   1.234568   1.612903   0.757576\nZotu9607    0.911854   1.851852   1.612903   1.893939\nZotu27764   4.559271   4.012346   1.209677   1.136364\nZotu39327   4.559271   0.308642   0.000000   0.000000\nZotu11302   8.510638  15.123457  11.290323   8.333333",
      "text/html": "<div>\n<style scoped>\n    .dataframe tbody tr th:only-of-type {\n        vertical-align: middle;\n    }\n\n    .dataframe tbody tr th {\n        vertical-align: top;\n    }\n\n    .dataframe thead th {\n        text-align: right;\n    }\n</style>\n<table border=\"1\" class=\"dataframe\">\n  <thead>\n    <tr style=\"text-align: right;\">\n      <th></th>\n      <th>S001P8292</th>\n      <th>S002P8292</th>\n      <th>S003P8292</th>\n      <th>S004P8292</th>\n    </tr>\n    <tr>\n      <th>OTUID</th>\n      <th></th>\n      <th></th>\n      <th></th>\n      <th></th>\n    </tr>\n  </thead>\n  <tbody>\n    <tr>\n      <th>Zotu6747</th>\n      <td>13.981763</td>\n      <td>21.913580</td>\n      <td>10.483871</td>\n      <td>18.560606</td>\n    </tr>\n    <tr>\n      <th>Zotu2247</th>\n      <td>0.303951</td>\n      <td>0.617284</td>\n      <td>0.806452</td>\n      <td>0.757576</td>\n    </tr>\n    <tr>\n      <th>Zotu22240</th>\n      <td>1.519757</td>\n      <td>2.469136</td>\n      <td>0.403226</td>\n      <td>0.000000</td>\n    </tr>\n    <tr>\n      <th>Zotu2303</th>\n      <td>53.191489</td>\n      <td>41.049383</td>\n      <td>48.790323</td>\n      <td>49.621212</td>\n    </tr>\n    <tr>\n      <th>Zotu12508</th>\n      <td>1.823708</td>\n      <td>4.320988</td>\n      <td>17.741935</td>\n      <td>14.015152</td>\n    </tr>\n    <tr>\n      <th>Zotu19977</th>\n      <td>2.127660</td>\n      <td>3.703704</td>\n      <td>1.612903</td>\n      <td>0.757576</td>\n    </tr>\n    <tr>\n      <th>Zotu30175</th>\n      <td>4.863222</td>\n      <td>3.395062</td>\n      <td>4.435484</td>\n      <td>4.166667</td>\n    </tr>\n    <tr>\n      <th>Zotu4618</th>\n      <td>3.647416</td>\n      <td>1.234568</td>\n      <td>1.612903</td>\n      <td>0.757576</td>\n    </tr>\n    <tr>\n      <th>Zotu9607</th>\n      <td>0.911854</td>\n      <td>1.851852</td>\n      <td>1.612903</td>\n      <td>1.893939</td>\n    </tr>\n    <tr>\n      <th>Zotu27764</th>\n      <td>4.559271</td>\n      <td>4.012346</td>\n      <td>1.209677</td>\n      <td>1.136364</td>\n    </tr>\n    <tr>\n      <th>Zotu39327</th>\n      <td>4.559271</td>\n      <td>0.308642</td>\n      <td>0.000000</td>\n      <td>0.000000</td>\n    </tr>\n    <tr>\n      <th>Zotu11302</th>\n      <td>8.510638</td>\n      <td>15.123457</td>\n      <td>11.290323</td>\n      <td>8.333333</td>\n    </tr>\n  </tbody>\n</table>\n</div>"
     },
     "execution_count": 3,
     "metadata": {},
     "output_type": "execute_result"
    }
   ],
   "source": [
    "## small test set\n",
    "df = pd.read_table('ASV_counts_extra_small.tsv', delimiter='\\t', index_col=0)\n",
    "df\n",
    "\n",
    "#select all but first\n",
    "counts_columns = df.columns.difference(['OTUID'])\n",
    "normalized_counts = df.copy()\n",
    "\n",
    "for count_column in counts_columns:\n",
    "    normalized_counts[count_column] = normalized_counts[count_column] / normalized_counts[count_column].sum() * 100\n",
    "\n",
    "normalized_counts"
   ],
   "metadata": {
    "collapsed": false
   }
  },
  {
   "cell_type": "code",
   "execution_count": 4,
   "outputs": [
    {
     "name": "stdout",
     "output_type": "stream",
     "text": [
      "Zotu6747\n",
      "Zotu2247\n",
      "Zotu22240\n",
      "Zotu2303\n",
      "Zotu12508\n",
      "Zotu19977\n",
      "Zotu30175\n",
      "Zotu4618\n",
      "Zotu9607\n",
      "Zotu27764\n",
      "Zotu39327\n",
      "Zotu11302\n"
     ]
    }
   ],
   "source": [
    "zotu_ids = normalized_counts['S001P8292'].index\n",
    "\n",
    "for id in zotu_ids:\n",
    "    print(id)"
   ],
   "metadata": {
    "collapsed": false
   }
  },
  {
   "cell_type": "code",
   "execution_count": null,
   "outputs": [],
   "source": [],
   "metadata": {
    "collapsed": false
   }
  }
 ],
 "metadata": {
  "kernelspec": {
   "display_name": "Python 3",
   "language": "python",
   "name": "python3"
  },
  "language_info": {
   "codemirror_mode": {
    "name": "ipython",
    "version": 2
   },
   "file_extension": ".py",
   "mimetype": "text/x-python",
   "name": "python",
   "nbconvert_exporter": "python",
   "pygments_lexer": "ipython2",
   "version": "2.7.6"
  }
 },
 "nbformat": 4,
 "nbformat_minor": 0
}
